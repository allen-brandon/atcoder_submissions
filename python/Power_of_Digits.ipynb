{
 "cells": [
  {
   "cell_type": "code",
   "execution_count": null,
   "id": "593bb2b6",
   "metadata": {},
   "outputs": [],
   "source": [
    "from functools import cache\n",
    "from operator import itemgetter\n",
    "mod = 998244353\n",
    "powers = [1]\n",
    "for _ in range(10000):\n",
    "    powers.append((powers[-1]*10)%mod)\n",
    "s = input()\n",
    "m = int(input())\n",
    "c = map(int, input().split())\n",
    "target, n = 0, len(s)\n",
    "for x in c:\n",
    "    target |= (1<<x)\n",
    "@cache\n",
    "def dfs(eq,mask,i):\n",
    "    if i==n:\n",
    "        return (0,mask&target==target)\n",
    "    lim = int(s[i]) if eq else 9\n",
    "    su = 0\n",
    "    c = 0\n",
    "    for x in range(lim+1):\n",
    "        v_su, v_c = dfs(eq&(x==lim),mask|(1<<i),i+1)\n",
    "        su+=v_su\n",
    "        c+=v_c\n",
    "        su%=mod\n",
    "        c%=mod\n",
    "    return (su, c)\n",
    "print(dfs(1,0,0)[0])"
   ]
  },
  {
   "cell_type": "code",
   "execution_count": null,
   "id": "386e6e29",
   "metadata": {},
   "outputs": [],
   "source": []
  }
 ],
 "metadata": {
  "kernelspec": {
   "display_name": "3.13.2",
   "language": "python",
   "name": "python3"
  },
  "language_info": {
   "codemirror_mode": {
    "name": "ipython",
    "version": 3
   },
   "file_extension": ".py",
   "mimetype": "text/x-python",
   "name": "python",
   "nbconvert_exporter": "python",
   "pygments_lexer": "ipython3",
   "version": "3.13.2"
  }
 },
 "nbformat": 4,
 "nbformat_minor": 5
}
